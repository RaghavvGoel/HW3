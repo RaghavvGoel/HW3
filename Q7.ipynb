{
 "cells": [
  {
   "cell_type": "code",
   "execution_count": 7,
   "metadata": {},
   "outputs": [],
   "source": [
    "import numpy as np\n",
    "import matplotlib.pyplot as plt\n",
    "from mpl_toolkits import mplot3d\n",
    "from mpl_toolkits.mplot3d import Axes3D"
   ]
  },
  {
   "cell_type": "code",
   "execution_count": 13,
   "metadata": {},
   "outputs": [],
   "source": [
    "def next_state(st, a):\n",
    "    done = False\n",
    "    if a == 0: #UP\n",
    "        st[0] = st[0] - 1;\n",
    "        if st[0] < 0:\n",
    "            st[0] = 0;\n",
    "    \n",
    "    elif a == 1: #LEFT\n",
    "        st[1] -= 1;\n",
    "        if st[1] < 0:\n",
    "            st[1] = 0;\n",
    "    \n",
    "    elif a == 2: #DOWN\n",
    "        st[0] += 1;\n",
    "        if st[0] > 3:\n",
    "            st[0] = 3;\n",
    "         \n",
    "    else: #Right\n",
    "        st[1] += 1;\n",
    "        if st[1] > 3:\n",
    "            st[1] = 3;\n",
    "    \n",
    "    #Chekcing for terminal state\n",
    "    re = -1;\n",
    "    if st[0] == 3 and st[1] == 3: #reached goal\n",
    "        done = True\n",
    "        \n",
    "    elif st[1] > 0 and st[0] == 3: #fell of the cliff\n",
    "        #m\n",
    "        st[1] = 0;\n",
    "        st[0] = 3;\n",
    "        re = -100\n",
    "        \n",
    "    return st, re, done    "
   ]
  },
  {
   "cell_type": "code",
   "execution_count": 27,
   "metadata": {},
   "outputs": [
    {
     "name": "stdout",
     "output_type": "stream",
     "text": [
      "('run: ', 0)\n"
     ]
    },
    {
     "ename": "KeyboardInterrupt",
     "evalue": "",
     "output_type": "error",
     "traceback": [
      "\u001b[0;31m---------------------------------------------------------------------------\u001b[0m",
      "\u001b[0;31mKeyboardInterrupt\u001b[0m                         Traceback (most recent call last)",
      "\u001b[0;32m<ipython-input-27-a27a20f9c606>\u001b[0m in \u001b[0;36m<module>\u001b[0;34m()\u001b[0m\n\u001b[1;32m     36\u001b[0m             \u001b[0ms_\u001b[0m\u001b[0;34m,\u001b[0m \u001b[0mr\u001b[0m\u001b[0;34m,\u001b[0m \u001b[0mDone\u001b[0m \u001b[0;34m=\u001b[0m \u001b[0mnext_state\u001b[0m\u001b[0;34m(\u001b[0m\u001b[0ms\u001b[0m\u001b[0;34m,\u001b[0m \u001b[0ma\u001b[0m\u001b[0;34m)\u001b[0m\u001b[0;34m\u001b[0m\u001b[0m\n\u001b[1;32m     37\u001b[0m \u001b[0;34m\u001b[0m\u001b[0m\n\u001b[0;32m---> 38\u001b[0;31m             \u001b[0mQ\u001b[0m\u001b[0;34m[\u001b[0m\u001b[0ms\u001b[0m\u001b[0;34m[\u001b[0m\u001b[0;36m0\u001b[0m\u001b[0;34m]\u001b[0m\u001b[0;34m,\u001b[0m\u001b[0ms\u001b[0m\u001b[0;34m[\u001b[0m\u001b[0;36m1\u001b[0m\u001b[0;34m]\u001b[0m\u001b[0;34m,\u001b[0m\u001b[0ma\u001b[0m\u001b[0;34m]\u001b[0m \u001b[0;34m=\u001b[0m \u001b[0mQ\u001b[0m\u001b[0;34m[\u001b[0m\u001b[0ms\u001b[0m\u001b[0;34m[\u001b[0m\u001b[0;36m0\u001b[0m\u001b[0;34m]\u001b[0m\u001b[0;34m,\u001b[0m\u001b[0ms\u001b[0m\u001b[0;34m[\u001b[0m\u001b[0;36m1\u001b[0m\u001b[0;34m]\u001b[0m\u001b[0;34m,\u001b[0m\u001b[0ma\u001b[0m\u001b[0;34m]\u001b[0m \u001b[0;34m+\u001b[0m \u001b[0malpha\u001b[0m\u001b[0;34m*\u001b[0m\u001b[0;34m(\u001b[0m\u001b[0mr\u001b[0m \u001b[0;34m+\u001b[0m \u001b[0mgamma\u001b[0m\u001b[0;34m*\u001b[0m\u001b[0mnp\u001b[0m\u001b[0;34m.\u001b[0m\u001b[0mmax\u001b[0m\u001b[0;34m(\u001b[0m\u001b[0mQ\u001b[0m\u001b[0;34m[\u001b[0m\u001b[0ms_\u001b[0m\u001b[0;34m[\u001b[0m\u001b[0;36m0\u001b[0m\u001b[0;34m]\u001b[0m\u001b[0;34m,\u001b[0m\u001b[0ms_\u001b[0m\u001b[0;34m[\u001b[0m\u001b[0;36m1\u001b[0m\u001b[0;34m]\u001b[0m\u001b[0;34m,\u001b[0m\u001b[0;34m:\u001b[0m\u001b[0;34m]\u001b[0m\u001b[0;34m)\u001b[0m \u001b[0;34m-\u001b[0m \u001b[0mQ\u001b[0m\u001b[0;34m[\u001b[0m\u001b[0ms\u001b[0m\u001b[0;34m[\u001b[0m\u001b[0;36m0\u001b[0m\u001b[0;34m]\u001b[0m\u001b[0;34m,\u001b[0m\u001b[0ms\u001b[0m\u001b[0;34m[\u001b[0m\u001b[0;36m1\u001b[0m\u001b[0;34m]\u001b[0m\u001b[0;34m,\u001b[0m\u001b[0ma\u001b[0m\u001b[0;34m]\u001b[0m\u001b[0;34m)\u001b[0m\u001b[0;34m\u001b[0m\u001b[0m\n\u001b[0m\u001b[1;32m     39\u001b[0m             \u001b[0;31m#print(Q[s[0],s[1],a])\u001b[0m\u001b[0;34m\u001b[0m\u001b[0;34m\u001b[0m\u001b[0m\n\u001b[1;32m     40\u001b[0m \u001b[0;34m\u001b[0m\u001b[0m\n",
      "\u001b[0;32m/home/raghavv/Environments/RL2019/local/lib/python2.7/site-packages/numpy/core/fromnumeric.pyc\u001b[0m in \u001b[0;36mamax\u001b[0;34m(a, axis, out, keepdims, initial)\u001b[0m\n\u001b[1;32m   2503\u001b[0m     \"\"\"\n\u001b[1;32m   2504\u001b[0m     return _wrapreduction(a, np.maximum, 'max', axis, None, out, keepdims=keepdims,\n\u001b[0;32m-> 2505\u001b[0;31m                           initial=initial)\n\u001b[0m\u001b[1;32m   2506\u001b[0m \u001b[0;34m\u001b[0m\u001b[0m\n\u001b[1;32m   2507\u001b[0m \u001b[0;34m\u001b[0m\u001b[0m\n",
      "\u001b[0;32m/home/raghavv/Environments/RL2019/local/lib/python2.7/site-packages/numpy/core/fromnumeric.pyc\u001b[0m in \u001b[0;36m_wrapreduction\u001b[0;34m(obj, ufunc, method, axis, dtype, out, **kwargs)\u001b[0m\n\u001b[1;32m     84\u001b[0m                 \u001b[0;32mreturn\u001b[0m \u001b[0mreduction\u001b[0m\u001b[0;34m(\u001b[0m\u001b[0maxis\u001b[0m\u001b[0;34m=\u001b[0m\u001b[0maxis\u001b[0m\u001b[0;34m,\u001b[0m \u001b[0mout\u001b[0m\u001b[0;34m=\u001b[0m\u001b[0mout\u001b[0m\u001b[0;34m,\u001b[0m \u001b[0;34m**\u001b[0m\u001b[0mpasskwargs\u001b[0m\u001b[0;34m)\u001b[0m\u001b[0;34m\u001b[0m\u001b[0m\n\u001b[1;32m     85\u001b[0m \u001b[0;34m\u001b[0m\u001b[0m\n\u001b[0;32m---> 86\u001b[0;31m     \u001b[0;32mreturn\u001b[0m \u001b[0mufunc\u001b[0m\u001b[0;34m.\u001b[0m\u001b[0mreduce\u001b[0m\u001b[0;34m(\u001b[0m\u001b[0mobj\u001b[0m\u001b[0;34m,\u001b[0m \u001b[0maxis\u001b[0m\u001b[0;34m,\u001b[0m \u001b[0mdtype\u001b[0m\u001b[0;34m,\u001b[0m \u001b[0mout\u001b[0m\u001b[0;34m,\u001b[0m \u001b[0;34m**\u001b[0m\u001b[0mpasskwargs\u001b[0m\u001b[0;34m)\u001b[0m\u001b[0;34m\u001b[0m\u001b[0m\n\u001b[0m\u001b[1;32m     87\u001b[0m \u001b[0;34m\u001b[0m\u001b[0m\n\u001b[1;32m     88\u001b[0m \u001b[0;34m\u001b[0m\u001b[0m\n",
      "\u001b[0;31mKeyboardInterrupt\u001b[0m: "
     ]
    }
   ],
   "source": [
    "#Q learning\n",
    "goaly = 3\n",
    "RR_QL = []\n",
    "for runs in range(50):\n",
    "    print(\"run: \" , runs)\n",
    "    episodes = 100\n",
    "    Q = np.random.rand(4,4,4)\n",
    "    #Terminal States\n",
    "    Q[3,0,:] = 0\n",
    "    Q[3,goaly,:] = 0\n",
    "    Q[3,:,:] = 0\n",
    "\n",
    "    #print(\"Q\")\n",
    "    #print(Q)\n",
    "    \n",
    "    alpha = 0.6\n",
    "    epsilon = 0.1;\n",
    "    gamma = 1;\n",
    "\n",
    "    R = []\n",
    "    for ep in range(episodes):\n",
    "        #Start State\n",
    "        s = [3, 0] \n",
    "        r = 0;\n",
    "        Done = False\n",
    "        r_sum = 0;\n",
    "        while not Done:\n",
    "            #print(s)\n",
    "            \n",
    "            if np.random.rand(1) < epsilon: #random action\n",
    "                a = np.random.randint(0,4)\n",
    "\n",
    "            else:\n",
    "                a = np.argmax(Q[s[0],s[1],:])\n",
    "\n",
    "            s_, r, Done = next_state(s, a)\n",
    "\n",
    "            Q[s[0],s[1],a] = Q[s[0],s[1],a] + alpha*(r + gamma*np.max(Q[s_[0],s_[1],:]) - Q[s[0],s[1],a])\n",
    "            #print(Q[s[0],s[1],a])\n",
    "            \n",
    "            \n",
    "            alpha += 0.01\n",
    "            if alpha > 1:\n",
    "                alpha = 1;\n",
    "                \n",
    "            s = s_\n",
    "            r_sum += r;\n",
    "            \n",
    "            if Done:\n",
    "                if r_sum < -100:\n",
    "                    r_sum = -100\n",
    "                R.append(r_sum)\n",
    "                \n",
    "    \n",
    "        #R = np.where(R < -100, -100, R)\n",
    "        \n",
    "    RR_QL.append(R)       \n",
    "    \n",
    "final_Q_learn = np.mean(RR_QL , axis = 0)"
   ]
  },
  {
   "cell_type": "code",
   "execution_count": 24,
   "metadata": {},
   "outputs": [
    {
     "name": "stdout",
     "output_type": "stream",
     "text": [
      "[-0.61853109 -0.34668184  0.20690539  0.65441796]\n"
     ]
    },
    {
     "data": {
      "text/plain": [
       "3"
      ]
     },
     "execution_count": 24,
     "metadata": {},
     "output_type": "execute_result"
    }
   ],
   "source": []
  },
  {
   "cell_type": "code",
   "execution_count": null,
   "metadata": {},
   "outputs": [],
   "source": []
  },
  {
   "cell_type": "code",
   "execution_count": 23,
   "metadata": {},
   "outputs": [
    {
     "name": "stdout",
     "output_type": "stream",
     "text": [
      "('run: ', 0)\n",
      "('run: ', 1)\n",
      "('run: ', 2)\n",
      "('run: ', 3)\n"
     ]
    },
    {
     "ename": "KeyboardInterrupt",
     "evalue": "",
     "output_type": "error",
     "traceback": [
      "\u001b[0;31m---------------------------------------------------------------------------\u001b[0m",
      "\u001b[0;31mKeyboardInterrupt\u001b[0m                         Traceback (most recent call last)",
      "\u001b[0;32m<ipython-input-23-c0d1a01d6a74>\u001b[0m in \u001b[0;36m<module>\u001b[0;34m()\u001b[0m\n\u001b[1;32m     30\u001b[0m         \u001b[0;32mwhile\u001b[0m \u001b[0;32mnot\u001b[0m \u001b[0mDone\u001b[0m\u001b[0;34m:\u001b[0m\u001b[0;34m\u001b[0m\u001b[0m\n\u001b[1;32m     31\u001b[0m \u001b[0;34m\u001b[0m\u001b[0m\n\u001b[0;32m---> 32\u001b[0;31m             \u001b[0ms_\u001b[0m\u001b[0;34m,\u001b[0m \u001b[0mr\u001b[0m\u001b[0;34m,\u001b[0m \u001b[0mDone\u001b[0m \u001b[0;34m=\u001b[0m \u001b[0mnext_state\u001b[0m\u001b[0;34m(\u001b[0m\u001b[0ms\u001b[0m\u001b[0;34m,\u001b[0m \u001b[0ma\u001b[0m\u001b[0;34m)\u001b[0m\u001b[0;34m\u001b[0m\u001b[0m\n\u001b[0m\u001b[1;32m     33\u001b[0m \u001b[0;34m\u001b[0m\u001b[0m\n\u001b[1;32m     34\u001b[0m             \u001b[0;31m#finding the next action:\u001b[0m\u001b[0;34m\u001b[0m\u001b[0;34m\u001b[0m\u001b[0m\n",
      "\u001b[0;32m<ipython-input-13-c1e50ed38623>\u001b[0m in \u001b[0;36mnext_state\u001b[0;34m(st, a)\u001b[0m\n\u001b[1;32m      7\u001b[0m \u001b[0;34m\u001b[0m\u001b[0m\n\u001b[1;32m      8\u001b[0m     \u001b[0;32melif\u001b[0m \u001b[0ma\u001b[0m \u001b[0;34m==\u001b[0m \u001b[0;36m1\u001b[0m\u001b[0;34m:\u001b[0m \u001b[0;31m#LEFT\u001b[0m\u001b[0;34m\u001b[0m\u001b[0m\n\u001b[0;32m----> 9\u001b[0;31m         \u001b[0mst\u001b[0m\u001b[0;34m[\u001b[0m\u001b[0;36m1\u001b[0m\u001b[0;34m]\u001b[0m \u001b[0;34m-=\u001b[0m \u001b[0;36m1\u001b[0m\u001b[0;34m;\u001b[0m\u001b[0;34m\u001b[0m\u001b[0m\n\u001b[0m\u001b[1;32m     10\u001b[0m         \u001b[0;32mif\u001b[0m \u001b[0mst\u001b[0m\u001b[0;34m[\u001b[0m\u001b[0;36m1\u001b[0m\u001b[0;34m]\u001b[0m \u001b[0;34m<\u001b[0m \u001b[0;36m0\u001b[0m\u001b[0;34m:\u001b[0m\u001b[0;34m\u001b[0m\u001b[0m\n\u001b[1;32m     11\u001b[0m             \u001b[0mst\u001b[0m\u001b[0;34m[\u001b[0m\u001b[0;36m1\u001b[0m\u001b[0;34m]\u001b[0m \u001b[0;34m=\u001b[0m \u001b[0;36m0\u001b[0m\u001b[0;34m;\u001b[0m\u001b[0;34m\u001b[0m\u001b[0m\n",
      "\u001b[0;31mKeyboardInterrupt\u001b[0m: "
     ]
    }
   ],
   "source": [
    "#SARSA\n",
    "goaly = 3;\n",
    "RR_SA = []\n",
    "for runs in range(100):\n",
    "    print(\"run: \" , runs)\n",
    "    episodes = 300\n",
    "    Q = np.random.rand(4,4,4)\n",
    "    #Terminal States\n",
    "    Q[3,0,:] = 0 #START\n",
    "    Q[3,goaly,:] = 0 #GOAL\n",
    "    Q[3,:,:] = 0 #CLIFF\n",
    "\n",
    "    alpha = 0.6\n",
    "    epsilon = 0.1;\n",
    "    gamma = 1\n",
    "    \n",
    "    R = []\n",
    "    for ep in range(episodes):\n",
    "        #Start State\n",
    "        s = [3, 0] \n",
    "        r = 0;\n",
    "        Done = False\n",
    "        r_sum = 0;\n",
    "        \n",
    "        if np.random.rand(1) < epsilon: #random action\n",
    "            a = np.random.randint(4)\n",
    "        else:\n",
    "            a = np.argmax(Q[s[0],s[1],:])\n",
    "        \n",
    "        while not Done:\n",
    "\n",
    "            s_, r, Done = next_state(s, a)\n",
    "\n",
    "            #finding the next action:\n",
    "            if np.random.rand(1) < epsilon: #random action\n",
    "                a_ = np.random.randint(4)\n",
    "            else:\n",
    "                a_ = np.argmax(Q[s_[0],s_[1],:])\n",
    "                \n",
    "                \n",
    "            Q[s[0],s[1],a] = Q[s[0],s[1],a] + alpha*(r + gamma*Q[s_[0],s_[1],a_] - Q[s[0],s[1],a])\n",
    "\n",
    "            s = s_\n",
    "            a = a_\n",
    "            r_sum += r;\n",
    "\n",
    "            if Done:\n",
    "                if r_sum < -100:\n",
    "                    r_sum = -100;                \n",
    "                \n",
    "                R.append(r_sum)\n",
    "        \n",
    "        #R = np.where(np.array(R) < -100, -100, R)\n",
    "    RR_SA.append(R)           \n",
    "final_SARSA = np.mean(RR_SA , axis = 0)"
   ]
  },
  {
   "cell_type": "code",
   "execution_count": null,
   "metadata": {},
   "outputs": [],
   "source": []
  },
  {
   "cell_type": "code",
   "execution_count": null,
   "metadata": {},
   "outputs": [],
   "source": [
    "C = ('red' , 'blue')\n",
    "\n",
    "\n",
    "X = np.arange(episodes)\n",
    "lines = []\n",
    "line_label = []\n",
    "for i in range(2):\n",
    "    if i == 0: #Q learnign\n",
    "        lines.append(plt.plot(X, final_Q_learn, color=C[i]))\n",
    "        line_label.append(\"Q learning\")\n",
    "    else:\n",
    "        lines.append(plt.plot(X, final_SARSA, color=C[i]))\n",
    "        line_label.append(\"SARSA\")        \n",
    "    \n",
    "plt.legend(line_label)  \n",
    "plt.savefig(\"Q7_rewards.png\")\n",
    "plt.show()"
   ]
  },
  {
   "cell_type": "code",
   "execution_count": null,
   "metadata": {},
   "outputs": [],
   "source": []
  }
 ],
 "metadata": {
  "kernelspec": {
   "display_name": "RL2019",
   "language": "python",
   "name": "rl2019"
  },
  "language_info": {
   "codemirror_mode": {
    "name": "ipython",
    "version": 2
   },
   "file_extension": ".py",
   "mimetype": "text/x-python",
   "name": "python",
   "nbconvert_exporter": "python",
   "pygments_lexer": "ipython2",
   "version": "2.7.12"
  }
 },
 "nbformat": 4,
 "nbformat_minor": 2
}
