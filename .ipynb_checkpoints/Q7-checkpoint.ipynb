{
 "cells": [
  {
   "cell_type": "code",
   "execution_count": 1,
   "metadata": {},
   "outputs": [],
   "source": [
    "import numpy as np\n",
    "import matplotlib.pyplot as plt\n",
    "from mpl_toolkits import mplot3d\n",
    "from mpl_toolkits.mplot3d import Axes3D"
   ]
  },
  {
   "cell_type": "code",
   "execution_count": 2,
   "metadata": {},
   "outputs": [],
   "source": [
    "def next_state(st, a):\n",
    "    done = False\n",
    "    if a == 0: #UP\n",
    "        st[0] = st[0] - 1;\n",
    "        if st[0] < 0:\n",
    "            st[0] = 0;\n",
    "    \n",
    "    elif a == 1: #LEFT\n",
    "        st[1] -= 1;\n",
    "        if st[1] < 0:\n",
    "            st[1] = 0;\n",
    "    \n",
    "    elif a == 2: #DOWN\n",
    "        st[0] += 1;\n",
    "        if st[0] > 3:\n",
    "            st[0] = 3;\n",
    "         \n",
    "    else:\n",
    "        st[1] += 1;\n",
    "        if st[1] > 11:\n",
    "            st[1] = 11;\n",
    "    \n",
    "    #Chekcing for terminal state\n",
    "    re = -1;\n",
    "    if st[0] == 3 and st[1] == 11: #reached goal\n",
    "        done = True\n",
    "        \n",
    "    elif st[1] > 0 and st[0] == 3: #fell of the cliff\n",
    "        done = True\n",
    "        re = -100\n",
    "        \n",
    "    return st, re, done    "
   ]
  },
  {
   "cell_type": "code",
   "execution_count": 19,
   "metadata": {},
   "outputs": [],
   "source": [
    "#Q learning\n",
    "\n",
    "RR_QL = []\n",
    "for runs in range(10):\n",
    "\n",
    "    episodes = 100\n",
    "    Q = np.random.rand(4,12,4)\n",
    "    #Terminal States\n",
    "    Q[3,0,:] = 0\n",
    "    Q[3,11,:] = 0\n",
    "\n",
    "    alpha = 0.2\n",
    "    epsilon = 0.1;\n",
    "    gamma = 0.9\n",
    "\n",
    "    R = []\n",
    "    for ep in range(episodes):\n",
    "        #Start State\n",
    "        s = [3, 0] \n",
    "        r = 0;\n",
    "        Done = False\n",
    "        r_sum = 0;\n",
    "        while not Done:\n",
    "\n",
    "            if np.random.rand(1) < epsilon: #random action\n",
    "                a = np.random.randint(4)\n",
    "\n",
    "            else:\n",
    "                a = np.argmax(Q[s[0],s[1],:])\n",
    "\n",
    "            s_, r, Done = next_state(s, a)\n",
    "\n",
    "            Q[s[0],s[1],a] = Q[s[0],s[1],a] + alpha*(r + gamma*np.max(Q[s_[0],s_[1],:]) - Q[s[0],s[1],a])\n",
    "\n",
    "            s = s_\n",
    "            r_sum += r;\n",
    "\n",
    "            if Done:\n",
    "                R.append(r_sum)\n",
    "                \n",
    "    RR_QL.append(R)           \n",
    "final_Q_learn = np.mean(RR_QL , axis = 0)"
   ]
  },
  {
   "cell_type": "code",
   "execution_count": 20,
   "metadata": {},
   "outputs": [
    {
     "data": {
      "text/plain": [
       "(10, 100)"
      ]
     },
     "execution_count": 20,
     "metadata": {},
     "output_type": "execute_result"
    }
   ],
   "source": [
    "np.shape(RR)"
   ]
  },
  {
   "cell_type": "code",
   "execution_count": 21,
   "metadata": {},
   "outputs": [
    {
     "data": {
      "text/plain": [
       "array([ -418.2,  -231.2,  -271. ,  -224.7,  -226.8,  -346.4,  -208.5,\n",
       "        -170. ,  -197.6,  -405.3,  -307.6,  -342.6,  -324.8,  -474. ,\n",
       "        -202.8,  -263.3,  -507.2,  -244.2,  -182.6,  -256. ,  -263.4,\n",
       "        -503.5,  -236.3,  -338.1,  -751.9,  -278.1,  -431.4,  -284.4,\n",
       "        -397.3,  -414.9,  -240.3,  -300.6,  -408.2,  -983.3,  -788.3,\n",
       "        -654.3,  -884.6,  -272.8,  -613.7,  -335.7,  -706.5,  -744.5,\n",
       "        -427.5,  -405. , -1057.5,  -363.7,  -501.7,  -456.6,  -280.1,\n",
       "        -322.2,  -704.6,  -339.7,  -585.5,  -259.1,  -750.2,  -511.8,\n",
       "        -415.8,  -360.5,  -311.1,  -414.9,  -688.1,  -567.2,  -689.3,\n",
       "        -926.8,  -233.5,  -703.9,  -495. ,  -619.4,  -226.8,  -458.3,\n",
       "        -316.6,  -743. ,  -353.8,  -492.4,  -328.7,  -187.7,  -444.8,\n",
       "        -429. ,  -446. ,  -264.6,  -241.8,  -379. ,  -273.8,  -362.6,\n",
       "        -583.4,  -268.7,  -471.3,  -303. ,  -488.4,  -236.4,  -584.7,\n",
       "        -334.8,  -362.2,  -186.9,  -266.4,  -978.2,  -394. ,  -330.3,\n",
       "        -316. ,  -555.1])"
      ]
     },
     "execution_count": 21,
     "metadata": {},
     "output_type": "execute_result"
    }
   ],
   "source": [
    "final_Q_learn"
   ]
  },
  {
   "cell_type": "code",
   "execution_count": 22,
   "metadata": {},
   "outputs": [],
   "source": [
    "#SARSA\n",
    "RR_SA = []\n",
    "for runs in range(10):\n",
    "\n",
    "    episodes = 100\n",
    "    Q = np.random.rand(4,12,4)\n",
    "    #Terminal States\n",
    "    Q[3,0,:] = 0\n",
    "    Q[3,11,:] = 0\n",
    "\n",
    "    alpha = 0.2\n",
    "    epsilon = 0.1;\n",
    "    gamma = 0.9\n",
    "    \n",
    "    R = []\n",
    "    for ep in range(episodes):\n",
    "        #Start State\n",
    "        s = [3, 0] \n",
    "        r = 0;\n",
    "        Done = False\n",
    "        r_sum = 0;\n",
    "        \n",
    "        if np.random.rand(1) < epsilon: #random action\n",
    "            a = np.random.randint(4)\n",
    "        else:\n",
    "            a = np.argmax(Q[s[0],s[1],:])\n",
    "        \n",
    "        while not Done:\n",
    "\n",
    "            s_, r, Done = next_state(s, a)\n",
    "\n",
    "            #finding the next action:\n",
    "            if np.random.rand(1) < epsilon: #random action\n",
    "                a_ = np.random.randint(4)\n",
    "            else:\n",
    "                a_ = np.argmax(Q[s_[0],s_[1],:])\n",
    "                \n",
    "                \n",
    "            Q[s[0],s[1],a] = Q[s[0],s[1],a] + alpha*(r + gamma*Q[s_[0],s_[1],a_] - Q[s[0],s[1],a])\n",
    "\n",
    "            s = s_\n",
    "            a = a_\n",
    "            r_sum += r;\n",
    "\n",
    "            if Done:\n",
    "                R.append(r_sum)\n",
    "                \n",
    "    RR_SA.append(R)           \n",
    "final_SARSA = np.mean(RR_SA , axis = 0)"
   ]
  },
  {
   "cell_type": "code",
   "execution_count": 23,
   "metadata": {},
   "outputs": [
    {
     "data": {
      "text/plain": [
       "array([ -207.6,  -200.1,  -205.4,  -308.3,  -407.9,  -324.5,  -288.1,\n",
       "        -704.5,  -738.5,  -410.6,  -357.8,  -522.4,  -539.2,  -543.9,\n",
       "        -452.4,  -280.4,  -928.3,  -520.3,  -741.6,  -620. ,  -689.7,\n",
       "        -647.6,  -914.6, -1102. ,  -419.5,  -335.6,  -452.7,  -385.4,\n",
       "        -417.3,  -481.7,  -305.5,  -900.7,  -519. ,  -491.5,  -682.6,\n",
       "        -261.9,  -213.5,  -859.1,  -547.9,  -413.7,  -545.8,  -455.5,\n",
       "        -216.2,  -314.5,  -298.4,  -369.8,  -378.7,  -356.4,  -512.5,\n",
       "        -445.3,  -327.1,  -245. ,  -295.4,  -311.6,  -383.7,  -626.6,\n",
       "        -339.9,  -586.1,  -352.4,  -724.4,  -460.5,  -278.1,  -300.2,\n",
       "        -189. ,  -746. ,  -537.6,  -591.9,  -199.2,  -270.2,  -473.6,\n",
       "        -244.1,  -326.5,  -725.6,  -223.3,  -229. ,  -175.7,  -335.3,\n",
       "        -236.6,  -270.2,  -297.2,  -342.4,  -172.7,  -197.5,  -158.3,\n",
       "        -280.2,  -268.4,  -248.5,  -395.4,  -357. ,  -337.1,  -263.1,\n",
       "        -296.3,  -217.5,  -602.2,  -388.5,  -266.1,  -364.6,  -172.1,\n",
       "        -286.7,  -207.9])"
      ]
     },
     "execution_count": 23,
     "metadata": {},
     "output_type": "execute_result"
    }
   ],
   "source": [
    "final_SARSA"
   ]
  },
  {
   "cell_type": "code",
   "execution_count": 24,
   "metadata": {},
   "outputs": [
    {
     "data": {
      "image/png": "[encoded data removed]",
      "text/plain": [
       "<Figure size 432x288 with 1 Axes>"
      ]
     },
     "metadata": {
      "needs_background": "light"
     },
     "output_type": "display_data"
    }
   ],
   "source": [
    "C = ('red' , 'blue')\n",
    "\n",
    "\n",
    "X = np.arange(episodes)\n",
    "lines = []\n",
    "line_label = []\n",
    "for i in range(2):\n",
    "    if i == 0: #Q learnign\n",
    "        lines.append(plt.plot(X, final_Q_learn, color=C[i]))\n",
    "        line_label.append(\"Q learning\")\n",
    "    else:\n",
    "        lines.append(plt.plot(X, final_SARSA, color=C[i]))\n",
    "        line_label.append(\"SARSA\")        \n",
    "    \n",
    "plt.legend(line_label)    \n",
    "plt.show()"
   ]
  },
  {
   "cell_type": "code",
   "execution_count": null,
   "metadata": {},
   "outputs": [],
   "source": []
  }
 ],
 "metadata": {
  "kernelspec": {
   "display_name": "RL2019",
   "language": "python",
   "name": "rl2019"
  },
  "language_info": {
   "codemirror_mode": {
    "name": "ipython",
    "version": 2
   },
   "file_extension": ".py",
   "mimetype": "text/x-python",
   "name": "python",
   "nbconvert_exporter": "python",
   "pygments_lexer": "ipython2",
   "version": "2.7.12"
  }
 },
 "nbformat": 4,
 "nbformat_minor": 2
}
